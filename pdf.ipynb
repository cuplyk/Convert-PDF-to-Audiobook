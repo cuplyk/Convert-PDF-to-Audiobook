{
 "cells": [
  {
   "cell_type": "markdown",
   "id": "305dc263",
   "metadata": {},
   "source": [
    "Python script that takes a PDF file, identifies the text and converts the text to speech. Effectively creating a free audiobook"
   ]
  },
  {
   "cell_type": "code",
   "execution_count": 9,
   "id": "489e54b3",
   "metadata": {},
   "outputs": [],
   "source": [
    "from PyPDF2 import PdfReader\n",
    "from gtts import gTTS\n",
    "import os\n",
    "\n",
    "def extract_text_from_pdf(file_path):\n",
    "    with open(file_path, 'rb') as file:\n",
    "        reader = PdfReader(file)\n",
    "        text = ''\n",
    "        for page in reader.pages:\n",
    "            text += page.extract_text()\n",
    "        return text\n",
    "\n",
    "def convert_text_to_speech(text, output_file):\n",
    "    tts = gTTS(text)\n",
    "    tts.save(output_file)\n",
    "\n",
    "def main():\n",
    "    # Path to the PDF file\n",
    "    pdf_file_path = 'file.pdf'\n",
    "    \n",
    "    # Extract text from the PDF\n",
    "    text = extract_text_from_pdf(pdf_file_path)\n",
    "\n",
    "    # Specify the output file name\n",
    "    output_file = 'output.mp3'\n",
    "\n",
    "    # Convert text to speech and save as an MP3 file\n",
    "    convert_text_to_speech(text, output_file)\n",
    "\n",
    "    # Play the generated speech using the default media player\n",
    "    os.system('start ' + output_file)\n",
    "\n",
    "if __name__ == '__main__':\n",
    "    main()\n"
   ]
  },
  {
   "cell_type": "code",
   "execution_count": null,
   "id": "1bbdff7a",
   "metadata": {},
   "outputs": [],
   "source": []
  }
 ],
 "metadata": {
  "kernelspec": {
   "display_name": "Python 3 (ipykernel)",
   "language": "python",
   "name": "python3"
  },
  "language_info": {
   "codemirror_mode": {
    "name": "ipython",
    "version": 3
   },
   "file_extension": ".py",
   "mimetype": "text/x-python",
   "name": "python",
   "nbconvert_exporter": "python",
   "pygments_lexer": "ipython3",
   "version": "3.9.13"
  }
 },
 "nbformat": 4,
 "nbformat_minor": 5
}
